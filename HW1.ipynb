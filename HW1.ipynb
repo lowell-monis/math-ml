{
 "cells": [
  {
   "cell_type": "code",
   "execution_count": 37,
   "id": "06dbfd0f-21af-4960-92a5-9ad8e8e5ab0c",
   "metadata": {},
   "outputs": [
    {
     "data": {
      "text/plain": [
       "<matplotlib.legend.Legend at 0x7f35ccbdac90>"
      ]
     },
     "execution_count": 37,
     "metadata": {},
     "output_type": "execute_result"
    },
    {
     "data": {
      "image/png": "[encoded data removed]",
      "text/plain": [
       "<Figure size 640x480 with 1 Axes>"
      ]
     },
     "metadata": {},
     "output_type": "display_data"
    }
   ],
   "source": [
    "import matplotlib.pyplot as plt\n",
    "import numpy as np\n",
    "\n",
    "# creating a single stacked 2d array containing the data\n",
    "x = [4.5, 5, 10, 4, 3, 11, 14, 5.5, 10, 12]\n",
    "y = [19, 19, 24, 17, 16, 25, 24, 19, 21, 21]\n",
    "data = np.array(np.column_stack((x, y)))\n",
    "\n",
    "K=2 # clusters\n",
    "tol = 0.001 # minimum difference in centers\n",
    "n, D = data.shape # extracting dimensions\n",
    "c = np.array([[5, 18], [12, 23]]) # guesses for centers\n",
    "c_old = np.zeros(c.shape) # creating array to store deprecated centers\n",
    "d = np.zeros((K,n)) # creating array to store distances between clusters and centers\n",
    "\n",
    "while np.abs(c - c_old).sum() > tol: # while distance is significant\n",
    "    c_old = c.copy() # deprecating the guessed centers\n",
    "    for i in range(K): # computing the squared distances between centers and clusters\n",
    "        d[i,:] = np.sum((data - c[:,i].T)**2, 1)\n",
    "    label = np.argmin(d,0) # assigning the points to the nearest cluster center\n",
    "    minvals = np.amin(d,0)\n",
    "    for i in range(K): # recomputing the cluster centers (i.e., centroid)\n",
    "        c[:,i] = np.mean(data[np.where(label == i),:],1).reshape(1,2)\n",
    "plt.scatter(data[np.where(label == 0),0], data[np.where(label == 0),1], label='cluster 1')\n",
    "plt.scatter(data[np.where(label == 1),0], data[np.where(label == 1),1], label='cluster 2')\n",
    "plt.scatter(c[0], c[1], marker=\"x\", label='centers')\n",
    "plt.legend()"
   ]
  },
  {
   "cell_type": "code",
   "execution_count": 38,
   "id": "0a7169b8-98e8-4397-b1a0-88768b1285d0",
   "metadata": {},
   "outputs": [
    {
     "name": "stdout",
     "output_type": "stream",
     "text": [
      "(351, 34)\n",
      "(351, 7)\n"
     ]
    }
   ],
   "source": [
    "import numpy as np\n",
    "import pandas as pd\n",
    "\n",
    "data = pd.read_csv('ionosphere.data', delimiter=',', header=None) # reading the data in\n",
    "data = data.drop(34, axis = 1) # dropping the label, keeping only the features for pca\n",
    "K=7 # reduced dimensions\n",
    "n=data.shape[0] # number of data points\n",
    "data = data - np.mean(data, axis=0) # centering the data\n",
    "[U,D2,UT]= np.linalg.svd((data.T @ data)/n) # creating the covariance matrix\n",
    "new_data = data@U[:,:K]\n",
    "print(data.shape)\n",
    "print(new_data.shape)"
   ]
  }
 ],
 "metadata": {
  "kernelspec": {
   "display_name": "Python 3.11 (default)",
   "language": "python",
   "name": "python3"
  },
  "language_info": {
   "codemirror_mode": {
    "name": "ipython",
    "version": 3
   },
   "file_extension": ".py",
   "mimetype": "text/x-python",
   "name": "python",
   "nbconvert_exporter": "python",
   "pygments_lexer": "ipython3",
   "version": "3.11.11"
  }
 },
 "nbformat": 4,
 "nbformat_minor": 5
}
